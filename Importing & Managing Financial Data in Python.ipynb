{
    "nbformat_minor": 1, 
    "cells": [
        {
            "source": "# Importing & Managing Financial Data in Python\n\nFirst step is to import the data of amex listings.\n\nWhen we are importing data we need to be sure we don't lost data and accuracy in the process. For this we can use EDA, Exploratory Data Analysis is the solution here, where we can do empirical and graphic analysis to the data.\n\nThe American Stock Exchange (AMEX) was once the third-largest stock exchange in the United States, as measured by trading volume. The exchange, at its height, handled about 10% of all securities traded in the US.\n\nToday, the AMEX is known as the NYSE American. In 2008, NYSE acquired the AMEX.", 
            "cell_type": "markdown", 
            "metadata": {
                "collapsed": true
            }
        }, 
        {
            "execution_count": 2, 
            "cell_type": "code", 
            "metadata": {}, 
            "outputs": [], 
            "source": "# The code was removed by Watson Studio for sharing."
        }, 
        {
            "source": "## Importing Data from CSV", 
            "cell_type": "markdown", 
            "metadata": {}
        }, 
        {
            "source": "## Data Types\n\nIn dataframes we have 4 types of data types, called dtypes:\n1. Object: Text or a mix of text and numeric data\n2. Int64: Numeric: Whole numbers 64 bits\n3. Float64: Numeric: Decimal or whole numbers with missing values\n4. Datetime64: Data and time information\n\nWhen we import a csv we need to be careful about the initial data and the dtypes that appears in the dataframe. For that, we can use the method info to analyse the data types, missing values and NaN assigns.\n\nIn this case, in the primary import od the csv we notice that the symbol N/A is used to identify the missing values and we have one date tpye column. We can parse the information when we are reading the csv with the atributes:\n1.  na_values='n/a'\n2.  parse_dates=['Last Update']\n\nIn the end we have something like  pd.read_csv(body, na_values='n/a', parse_dates=['Last Update']) to import the dataset to a dataframe.\n\nWe can see the result with the method df_amex.info() and df_amex.head() methods:", 
            "cell_type": "markdown", 
            "metadata": {}
        }, 
        {
            "execution_count": 3, 
            "cell_type": "code", 
            "metadata": {}, 
            "outputs": [
                {
                    "output_type": "stream", 
                    "name": "stdout", 
                    "text": "\n ########## INFO AMEX ############## \n\n<class 'pandas.core.frame.DataFrame'>\nRangeIndex: 360 entries, 0 to 359\nData columns (total 8 columns):\nStock Symbol             360 non-null object\nCompany Name             360 non-null object\nLast Sale                346 non-null float64\nMarket Capitalization    360 non-null float64\nIPO Year                 105 non-null float64\nSector                   238 non-null object\nIndustry                 238 non-null object\nLast Update              360 non-null datetime64[ns]\ndtypes: datetime64[ns](1), float64(3), object(4)\nmemory usage: 22.6+ KB\nNone\n\n ########## HEAD AMEX ############## \n\n     Stock Symbol                                       Company Name  \\\n0            XXII                            22nd Century Group, Inc   \n1             FAX              Aberdeen Asia-Pacific Income Fund Inc   \n2             IAF                 Aberdeen Australia Equity Fund Inc   \n3              CH                          Aberdeen Chile Fund, Inc.   \n4  ABE             Aberdeen Emerging Markets Smaller Company Oppo...   \n\n   Last Sale  Market Capitalization  IPO Year                 Sector  \\\n0     1.3300           1.206285e+08       NaN  Consumer Non-Durables   \n1     5.0000           1.266333e+09    1986.0                    NaN   \n2     6.1500           1.398653e+08       NaN                    NaN   \n3     7.2201           6.756346e+07       NaN                    NaN   \n4    13.3600           1.288430e+08       NaN                    NaN   \n\n                Industry Last Update  \n0  Farming/Seeds/Milling  2017-04-26  \n1                    NaN  2017-04-25  \n2                    NaN  2017-04-23  \n3                    NaN  2017-04-26  \n4                    NaN  2017-04-25  \n"
                }
            ], 
            "source": "print('\\n ########## INFO AMEX ############## \\n')\n\n#Get the information about the dataframe data types\nprint(df_amex.info())\n\nprint('\\n ########## HEAD AMEX ############## \\n')\n\n#Get the information about the dataframe data types\nprint(df_amex.head())"
        }, 
        {
            "execution_count": 4, 
            "cell_type": "code", 
            "metadata": {}, 
            "outputs": [
                {
                    "output_type": "stream", 
                    "name": "stdout", 
                    "text": "\n ########## INFO NASDAQ ############## \n\n<class 'pandas.core.frame.DataFrame'>\nRangeIndex: 1115 entries, 0 to 1114\nData columns (total 8 columns):\nStock Symbol             1115 non-null object\nCompany Name             1115 non-null object\nLast Sale                1115 non-null float64\nMarket Capitalization    1115 non-null float64\nIPO Year                 593 non-null float64\nSector                   1036 non-null object\nIndustry                 1036 non-null object\nLast Update              1115 non-null datetime64[ns]\ndtypes: datetime64[ns](1), float64(3), object(4)\nmemory usage: 69.8+ KB\nNone\n\n ########## HEAD NASDAQ ############## \n\n  Stock Symbol           Company Name  Last Sale  Market Capitalization  \\\n0         AAPL             Apple Inc.     141.05           7.400000e+11   \n1        GOOGL          Alphabet Inc.     840.18           5.810000e+11   \n2         GOOG          Alphabet Inc.     823.56           5.690000e+11   \n3         MSFT  Microsoft Corporation      64.95           5.020000e+11   \n4         AMZN       Amazon.com, Inc.     884.67           4.220000e+11   \n\n   IPO Year             Sector  \\\n0    1980.0         Technology   \n1       NaN         Technology   \n2    2004.0         Technology   \n3    1986.0         Technology   \n4    1997.0  Consumer Services   \n\n                                          Industry Last Update  \n0                           Computer Manufacturing  2017-04-26  \n1  Computer Software: Programming, Data Processing  2017-04-24  \n2  Computer Software: Programming, Data Processing  2017-04-23  \n3          Computer Software: Prepackaged Software  2017-04-26  \n4                   Catalog/Specialty Distribution  2017-04-24  \n"
                }
            ], 
            "source": "print('\\n ########## INFO NASDAQ ############## \\n')\n\n#Get the information about the dataframe data types\nprint(df_nasdaq.info())\n\nprint('\\n ########## HEAD NASDAQ ############## \\n')\n\n#Get the information about the dataframe data types\nprint(df_nasdaq.head())"
        }, 
        {
            "source": "## Importing data as Excel\n\nIn this case, importing data as Excel has the same flow method as csv but in this case we can identify the sheets with the data.\n\nIn this method we can define a dictionary where the keys are the name of the dataframes and the values are the dataframes that represents the dataset in each sheet.", 
            "cell_type": "markdown", 
            "metadata": {}
        }, 
        {
            "execution_count": 29, 
            "cell_type": "code", 
            "metadata": {}, 
            "outputs": [
                {
                    "output_type": "stream", 
                    "name": "stdout", 
                    "text": "<class 'method'>\n\n####### amex #######\n\n<class 'pandas.core.frame.DataFrame'>\nRangeIndex: 360 entries, 0 to 359\nData columns (total 7 columns):\nStock Symbol             360 non-null object\nCompany Name             360 non-null object\nLast Sale                346 non-null float64\nMarket Capitalization    360 non-null float64\nIPO Year                 105 non-null float64\nSector                   238 non-null object\nIndustry                 238 non-null object\ndtypes: float64(3), object(4)\nmemory usage: 19.8+ KB\nNone\n\n####### nasdaq #######\n\n<class 'pandas.core.frame.DataFrame'>\nRangeIndex: 3167 entries, 0 to 3166\nData columns (total 7 columns):\nStock Symbol             3167 non-null object\nCompany Name             3167 non-null object\nLast Sale                3165 non-null float64\nMarket Capitalization    3167 non-null float64\nIPO Year                 1386 non-null float64\nSector                   2767 non-null object\nIndustry                 2767 non-null object\ndtypes: float64(3), object(4)\nmemory usage: 173.3+ KB\nNone\n\n####### nyse #######\n\n<class 'pandas.core.frame.DataFrame'>\nRangeIndex: 3147 entries, 0 to 3146\nData columns (total 7 columns):\nStock Symbol             3147 non-null object\nCompany Name             3147 non-null object\nLast Sale                3079 non-null float64\nMarket Capitalization    3147 non-null float64\nIPO Year                 1361 non-null float64\nSector                   2177 non-null object\nIndustry                 2177 non-null object\ndtypes: float64(3), object(4)\nmemory usage: 172.2+ KB\nNone\n"
                }
            ], 
            "source": "\n# Your data file was loaded into a botocore.response.StreamingBody object.\n# Please read the documentation of ibm_boto3 and pandas to learn more about your possibilities to load the data.\n# ibm_boto3 documentation: https://ibm.github.io/ibm-cos-sdk-python/\n# pandas documentation: http://pandas.pydata.org/\nstreaming_body_1 = client_5201de40b6a649099bddf76511dc329f.get_object(Bucket='datacampprojects-donotdelete-pr-gagvrbswecaf5q', Key='listings.xlsx')['Body']\n# add missing __iter__ method so pandas accepts body as file-like object\nif not hasattr(streaming_body_1, \"__iter__\"): streaming_body_1.__iter__ = types.MethodType( __iter__, streaming_body_1 ) \n    \ndict_df_lists = pd.read_excel(streaming_body_1, sheet_name=['amex','nasdaq','nyse'], na_values='n/a')\n\nfor key in dict_df_lists.keys():\n    print('\\n####### ' + key + ' #######\\n')\n    print(dict_df_lists[key].info())"
        }, 
        {
            "source": "## Combine Dataframes\n\nIn this case we can use pandas concat method because the dataframes have the same columns \n", 
            "cell_type": "markdown", 
            "metadata": {}
        }, 
        {
            "execution_count": 34, 
            "cell_type": "code", 
            "metadata": {}, 
            "outputs": [
                {
                    "execution_count": 34, 
                    "metadata": {}, 
                    "data": {
                        "text/html": "<div>\n<style scoped>\n    .dataframe tbody tr th:only-of-type {\n        vertical-align: middle;\n    }\n\n    .dataframe tbody tr th {\n        vertical-align: top;\n    }\n\n    .dataframe thead th {\n        text-align: right;\n    }\n</style>\n<table border=\"1\" class=\"dataframe\">\n  <thead>\n    <tr style=\"text-align: right;\">\n      <th></th>\n      <th></th>\n      <th>Stock Symbol</th>\n      <th>Company Name</th>\n      <th>Last Sale</th>\n      <th>Market Capitalization</th>\n      <th>IPO Year</th>\n      <th>Sector</th>\n      <th>Industry</th>\n      <th>Exchange</th>\n    </tr>\n  </thead>\n  <tbody>\n    <tr>\n      <th rowspan=\"5\" valign=\"top\">amex</th>\n      <th>0</th>\n      <td>XXII</td>\n      <td>22nd Century Group, Inc</td>\n      <td>1.3300</td>\n      <td>1.206285e+08</td>\n      <td>NaN</td>\n      <td>Consumer Non-Durables</td>\n      <td>Farming/Seeds/Milling</td>\n      <td>amex</td>\n    </tr>\n    <tr>\n      <th>1</th>\n      <td>FAX</td>\n      <td>Aberdeen Asia-Pacific Income Fund Inc</td>\n      <td>5.0000</td>\n      <td>1.266333e+09</td>\n      <td>1986.0</td>\n      <td>NaN</td>\n      <td>NaN</td>\n      <td>amex</td>\n    </tr>\n    <tr>\n      <th>2</th>\n      <td>IAF</td>\n      <td>Aberdeen Australia Equity Fund Inc</td>\n      <td>6.1500</td>\n      <td>1.398653e+08</td>\n      <td>NaN</td>\n      <td>NaN</td>\n      <td>NaN</td>\n      <td>amex</td>\n    </tr>\n    <tr>\n      <th>3</th>\n      <td>CH</td>\n      <td>Aberdeen Chile Fund, Inc.</td>\n      <td>7.2201</td>\n      <td>6.756346e+07</td>\n      <td>NaN</td>\n      <td>NaN</td>\n      <td>NaN</td>\n      <td>amex</td>\n    </tr>\n    <tr>\n      <th>4</th>\n      <td>ABE</td>\n      <td>Aberdeen Emerging Markets Smaller Company Oppo...</td>\n      <td>13.3600</td>\n      <td>1.288430e+08</td>\n      <td>NaN</td>\n      <td>NaN</td>\n      <td>NaN</td>\n      <td>amex</td>\n    </tr>\n  </tbody>\n</table>\n</div>", 
                        "text/plain": "          Stock Symbol                                       Company Name  \\\namex 0            XXII                            22nd Century Group, Inc   \n     1             FAX              Aberdeen Asia-Pacific Income Fund Inc   \n     2             IAF                 Aberdeen Australia Equity Fund Inc   \n     3              CH                          Aberdeen Chile Fund, Inc.   \n     4  ABE             Aberdeen Emerging Markets Smaller Company Oppo...   \n\n        Last Sale  Market Capitalization  IPO Year                 Sector  \\\namex 0     1.3300           1.206285e+08       NaN  Consumer Non-Durables   \n     1     5.0000           1.266333e+09    1986.0                    NaN   \n     2     6.1500           1.398653e+08       NaN                    NaN   \n     3     7.2201           6.756346e+07       NaN                    NaN   \n     4    13.3600           1.288430e+08       NaN                    NaN   \n\n                     Industry Exchange  \namex 0  Farming/Seeds/Milling     amex  \n     1                    NaN     amex  \n     2                    NaN     amex  \n     3                    NaN     amex  \n     4                    NaN     amex  "
                    }, 
                    "output_type": "execute_result"
                }
            ], 
            "source": "for key in dict_df_lists:\n    dict_df_lists[key]['Exchange'] = key\n\ndf_main = pd.concat(dict_df_lists)\ndf_main.head()\n"
        }
    ], 
    "metadata": {
        "kernelspec": {
            "display_name": "Python 3.5", 
            "name": "python3", 
            "language": "python"
        }, 
        "language_info": {
            "mimetype": "text/x-python", 
            "nbconvert_exporter": "python", 
            "version": "3.5.5", 
            "name": "python", 
            "file_extension": ".py", 
            "pygments_lexer": "ipython3", 
            "codemirror_mode": {
                "version": 3, 
                "name": "ipython"
            }
        }
    }, 
    "nbformat": 4
}