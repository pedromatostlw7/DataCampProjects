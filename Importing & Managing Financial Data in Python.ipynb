{
    "nbformat_minor": 1, 
    "cells": [
        {
            "source": "# Importing & Managing Financial Data in Python\n\nFirst step is to import the data of amex listings.\n\nWhen we are importing data we need to be sure we don't lost data and accuracy in the process. For this we can use EDA, Exploratory Data Analysis is the solution here, where we can do empirical and graphic analysis to the data.\n\nThe American Stock Exchange (AMEX) was once the third-largest stock exchange in the United States, as measured by trading volume. The exchange, at its height, handled about 10% of all securities traded in the US.\n\nToday, the AMEX is known as the NYSE American. In 2008, NYSE acquired the AMEX.", 
            "cell_type": "markdown", 
            "metadata": {
                "collapsed": true
            }
        }, 
        {
            "execution_count": 5, 
            "cell_type": "code", 
            "metadata": {}, 
            "outputs": [
                {
                    "execution_count": 5, 
                    "metadata": {}, 
                    "data": {
                        "text/html": "<div>\n<style scoped>\n    .dataframe tbody tr th:only-of-type {\n        vertical-align: middle;\n    }\n\n    .dataframe tbody tr th {\n        vertical-align: top;\n    }\n\n    .dataframe thead th {\n        text-align: right;\n    }\n</style>\n<table border=\"1\" class=\"dataframe\">\n  <thead>\n    <tr style=\"text-align: right;\">\n      <th></th>\n      <th>Stock Symbol</th>\n      <th>Company Name</th>\n      <th>Last Sale</th>\n      <th>Market Capitalization</th>\n      <th>IPO Year</th>\n      <th>Sector</th>\n      <th>Industry</th>\n      <th>Last Update</th>\n    </tr>\n  </thead>\n  <tbody>\n    <tr>\n      <th>0</th>\n      <td>XXII</td>\n      <td>22nd Century Group, Inc</td>\n      <td>1.3300</td>\n      <td>1.206285e+08</td>\n      <td>NaN</td>\n      <td>Consumer Non-Durables</td>\n      <td>Farming/Seeds/Milling</td>\n      <td>4/26/17</td>\n    </tr>\n    <tr>\n      <th>1</th>\n      <td>FAX</td>\n      <td>Aberdeen Asia-Pacific Income Fund Inc</td>\n      <td>5.0000</td>\n      <td>1.266333e+09</td>\n      <td>1986.0</td>\n      <td>NaN</td>\n      <td>NaN</td>\n      <td>4/25/17</td>\n    </tr>\n    <tr>\n      <th>2</th>\n      <td>IAF</td>\n      <td>Aberdeen Australia Equity Fund Inc</td>\n      <td>6.1500</td>\n      <td>1.398653e+08</td>\n      <td>NaN</td>\n      <td>NaN</td>\n      <td>NaN</td>\n      <td>4/23/17</td>\n    </tr>\n    <tr>\n      <th>3</th>\n      <td>CH</td>\n      <td>Aberdeen Chile Fund, Inc.</td>\n      <td>7.2201</td>\n      <td>6.756346e+07</td>\n      <td>NaN</td>\n      <td>NaN</td>\n      <td>NaN</td>\n      <td>4/26/17</td>\n    </tr>\n    <tr>\n      <th>4</th>\n      <td>ABE</td>\n      <td>Aberdeen Emerging Markets Smaller Company Oppo...</td>\n      <td>13.3600</td>\n      <td>1.288430e+08</td>\n      <td>NaN</td>\n      <td>NaN</td>\n      <td>NaN</td>\n      <td>4/25/17</td>\n    </tr>\n  </tbody>\n</table>\n</div>", 
                        "text/plain": "     Stock Symbol                                       Company Name  \\\n0            XXII                            22nd Century Group, Inc   \n1             FAX              Aberdeen Asia-Pacific Income Fund Inc   \n2             IAF                 Aberdeen Australia Equity Fund Inc   \n3              CH                          Aberdeen Chile Fund, Inc.   \n4  ABE             Aberdeen Emerging Markets Smaller Company Oppo...   \n\n   Last Sale  Market Capitalization  IPO Year                 Sector  \\\n0     1.3300           1.206285e+08       NaN  Consumer Non-Durables   \n1     5.0000           1.266333e+09    1986.0                    NaN   \n2     6.1500           1.398653e+08       NaN                    NaN   \n3     7.2201           6.756346e+07       NaN                    NaN   \n4    13.3600           1.288430e+08       NaN                    NaN   \n\n                Industry Last Update  \n0  Farming/Seeds/Milling     4/26/17  \n1                    NaN     4/25/17  \n2                    NaN     4/23/17  \n3                    NaN     4/26/17  \n4                    NaN     4/25/17  "
                    }, 
                    "output_type": "execute_result"
                }
            ], 
            "source": "# The code was removed by Watson Studio for sharing."
        }, 
        {
            "source": "## Empirical Exploratory Analysis Data\n\n1. Study the data type of the data in the csv file and the data type of the data frame result from the csv importation\n", 
            "cell_type": "markdown", 
            "metadata": {}
        }, 
        {
            "source": "## Data Types", 
            "cell_type": "markdown", 
            "metadata": {}
        }, 
        {
            "execution_count": 17, 
            "cell_type": "code", 
            "metadata": {}, 
            "outputs": [
                {
                    "output_type": "stream", 
                    "name": "stdout", 
                    "text": "     Stock Symbol                                       Company Name  \\\n0            XXII                            22nd Century Group, Inc   \n1             FAX              Aberdeen Asia-Pacific Income Fund Inc   \n2             IAF                 Aberdeen Australia Equity Fund Inc   \n3              CH                          Aberdeen Chile Fund, Inc.   \n4  ABE             Aberdeen Emerging Markets Smaller Company Oppo...   \n\n   Last Sale  Market Capitalization  IPO Year                 Sector  \\\n0     1.3300           1.206285e+08       NaN  Consumer Non-Durables   \n1     5.0000           1.266333e+09    1986.0                    NaN   \n2     6.1500           1.398653e+08       NaN                    NaN   \n3     7.2201           6.756346e+07       NaN                    NaN   \n4    13.3600           1.288430e+08       NaN                    NaN   \n\n                Industry Last Update  \n0  Farming/Seeds/Milling     4/26/17  \n1                    NaN     4/25/17  \n2                    NaN     4/23/17  \n3                    NaN     4/26/17  \n4                    NaN     4/25/17  \n\n ########## INFO ############## \n\n<class 'pandas.core.frame.DataFrame'>\nRangeIndex: 360 entries, 0 to 359\nData columns (total 8 columns):\nStock Symbol             360 non-null object\nCompany Name             360 non-null object\nLast Sale                346 non-null float64\nMarket Capitalization    360 non-null float64\nIPO Year                 105 non-null float64\nSector                   238 non-null object\nIndustry                 238 non-null object\nLast Update              360 non-null object\ndtypes: float64(3), object(5)\nmemory usage: 22.6+ KB\nNone\n"
                }
            ], 
            "source": "#Get first lines of data: \nprint(df_amex.head())\nprint('\\n ########## INFO ############## \\n')\n\n#Get the information about the dataframe data types\nprint(df_amex.info())"
        }, 
        {
            "execution_count": 13, 
            "cell_type": "code", 
            "metadata": {}, 
            "outputs": [
                {
                    "execution_count": 13, 
                    "metadata": {}, 
                    "data": {
                        "text/plain": "255"
                    }, 
                    "output_type": "execute_result"
                }
            ], 
            "source": "# df_amex.Sector.isnull().sum()\n\n# df_amex.info()\n\ndf_amex['IPO Year'].isnull().sum()"
        }
    ], 
    "metadata": {
        "kernelspec": {
            "display_name": "Python 3.5", 
            "name": "python3", 
            "language": "python"
        }, 
        "language_info": {
            "mimetype": "text/x-python", 
            "nbconvert_exporter": "python", 
            "version": "3.5.5", 
            "name": "python", 
            "file_extension": ".py", 
            "pygments_lexer": "ipython3", 
            "codemirror_mode": {
                "version": 3, 
                "name": "ipython"
            }
        }
    }, 
    "nbformat": 4
}